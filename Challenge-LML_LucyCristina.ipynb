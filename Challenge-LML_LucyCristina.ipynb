{
 "cells": [
  {
   "cell_type": "code",
   "execution_count": 1,
   "metadata": {},
   "outputs": [
    {
     "name": "stdout",
     "output_type": "stream",
     "text": [
      "(8662, 28)\n",
      "(8662,)\n"
     ]
    }
   ],
   "source": [
    "import numpy as np\n",
    "import pandas as pd\n",
    "import matplotlib.pyplot as plt\n",
    "from matplotlib.colors import ListedColormap\n",
    "import seaborn as sns\n",
    "\n",
    "from sklearn import neighbors\n",
    "from sklearn.ensemble import RandomForestClassifier\n",
    "from sklearn.neighbors import KNeighborsClassifier\n",
    "from sklearn.model_selection import train_test_split\n",
    "from sklearn.metrics import accuracy_score\n",
    "\n",
    "# Labels_features\n",
    "feats_labels=[\"npoints\",\"radius\",\"width\",\"std\",\"aspect_ratio\",\n",
    "                \"front_length\",\"front_reg\",\"circularity\",\"kurtosis\",\n",
    "                \"linearity\",\"mean_angular_d\",\"median_std\",\n",
    "                \"mean_curvature\",\"closest_dist\",\"radius_nearest\",\n",
    "                \"width_nearest\",\"std_nearest\",\"aspect_ratio_nearest\",\n",
    "                \"front_length_nearest\",\"front_reg_nearest\",\n",
    "                \"circularity_nearest\",\"kurtosis_nearest\",\n",
    "                \"linearity_nearest\",\"mean_angular_d_nearest\",\n",
    "                \"median_std_nearest\",\"mean_curvature_nearest\",\"closest_dist_nearest\",\"NN\"]\n",
    "\n",
    "# Import data\n",
    "seg = pd.read_csv(\"laser_data/DataTrain.csv\", header=None, names=feats_labels, usecols=range(len(feats_labels)))\n",
    "y=np.loadtxt(\"laser_data/LabelsTrain.csv\")\n",
    "\n",
    "\n",
    "\n",
    "# Separar datos de entrenamiento y prueba\n",
    "X_train, X_test, y_train, y_test = train_test_split(seg, y, test_size=0.4, random_state=None)\n",
    "\n",
    "\n",
    "print(X_train.shape)\n",
    "print(y_train.shape)"
   ]
  },
  {
   "cell_type": "code",
   "execution_count": 6,
   "metadata": {},
   "outputs": [
    {
     "name": "stdout",
     "output_type": "stream",
     "text": [
      "Entrenando modelo KNneighnordsClassifier ...\n"
     ]
    },
    {
     "data": {
      "image/png": "[encoded data removed]",
      "text/plain": [
       "<Figure size 432x288 with 1 Axes>"
      ]
     },
     "metadata": {
      "needs_background": "light"
     },
     "output_type": "display_data"
    }
   ],
   "source": [
    "# Entrenar clasificador tomamos el modelo \n",
    "print('Entrenando modelo KNneighnordsClassifier ...')\n",
    "\n",
    "n_neighbors = 2\n",
    "h = 0.02  # step size in the mesh\n",
    "\n",
    "# Create color maps\n",
    "cmap_light = ListedColormap(['#FFAAAA', '#AAFFAA', '#AAAAFF'])\n",
    "cmap_bold = ListedColormap(['#FF0000', '#00FF00', '#0000FF'])\n",
    "\n",
    "\n",
    "for weights in ['uniform', 'distance']:\n",
    "    # we create an instance of Neighbours Classifier and fit the data\n",
    "    clf = neighbors.KNeighborsClassifier(n_neighbors, weights=weights)\n",
    "    clf.fit(X_train, y_train)\n",
    "    \n",
    "    # Plot the decision boundary. For that, we will assign a color to each\n",
    "    # point in the mesh [x_min, x_max]x[y_min, y_max].\n",
    "    x_min, x_max = X_train.iloc[:, 0].min() - 1, X_train.iloc[:, 0].max() + 1\n",
    "    y_min, y_max = X_train.iloc[:, 1].min() - 1, X_train.iloc[:, 1].max() + 1\n",
    "    xx, yy = np.meshgrid(np.arange(x_min, x_max, h),\n",
    "                         np.arange(y_min, y_max, h))\n",
    "    \n",
    "    #Z = clf.predict(np.c_[xx.ravel(), yy.ravel()])\n",
    "\n",
    "    # Put the result into a color plot\n",
    "    #Z = Z.reshape(xx.shape)\n",
    "    #plt.figure(figsize=(7,5))\n",
    "    #plt.pcolormesh(xx, yy, Z, cmap=cmap_light)\n",
    "\n",
    "    # Plot also the training points\n",
    "    plt.scatter(X_train.iloc[:, 0], X_train.iloc[:, 1], c=y_train, cmap=cmap_bold)\n",
    "    plt.xlim(xx.min(), xx.max())\n",
    "    plt.ylim(yy.min(), yy.max())\n",
    "    plt.title(\"2-Class classification (k = %i, weights = '%s')\"\n",
    "              % (n_neighbors, weights))"
   ]
  },
  {
   "cell_type": "code",
   "execution_count": 24,
   "metadata": {},
   "outputs": [
    {
     "name": "stdout",
     "output_type": "stream",
     "text": [
      "predicted: [1. 0. 0. ... 1. 0. 1.]\n",
      "actual   : [1. 0. 0. ... 1. 0. 1.]\n",
      "              precision    recall  f1-score   support\n",
      "\n",
      "           1       0.94      0.99      0.96      4049\n",
      "           0       0.97      0.85      0.91      1726\n",
      "\n",
      "   micro avg       0.95      0.95      0.95      5775\n",
      "   macro avg       0.96      0.92      0.94      5775\n",
      "weighted avg       0.95      0.95      0.95      5775\n",
      "\n"
     ]
    }
   ],
   "source": [
    "# Create and fit a nearest-neighbor classifier\n",
    "\n",
    "knn = KNeighborsClassifier()\n",
    "knn.fit(X_train, y_train) \n",
    "KNeighborsClassifier(algorithm='auto', leaf_size=30, metric='minkowski',\n",
    "           metric_params=None, n_jobs=1, n_neighbors=5, p=2,\n",
    "           weights='uniform')\n",
    "print(\"predicted:\", knn.predict(X_test))\n",
    "print(\"actual   :\", y_test)\n",
    "\n",
    "output = []\n",
    "y_predict = knn.predict(X_test)\n",
    "for i in range(len(y_test)):\n",
    "    output.append([int(y_test[i]), int(y_predict[i])])\n",
    "output=np.array(output)\n",
    "np.savetxt(\"output.csv\", output, fmt='%d')\n",
    "\n",
    "\n",
    "from sklearn.metrics import classification_report\n",
    "print(classification_report(y_test, y_predict, labels=[1, 0]))"
   ]
  },
  {
   "cell_type": "code",
   "execution_count": 42,
   "metadata": {},
   "outputs": [
    {
     "name": "stdout",
     "output_type": "stream",
     "text": [
      "mean: 0.940260, stdev: 0.010215\n"
     ]
    }
   ],
   "source": [
    "from sklearn.model_selection import cross_val_score\n",
    "from sklearn import model_selection\n",
    "\n",
    "def print_cv_score_summary(model, xx, yy, cv):\n",
    "    scores = cross_val_score(model, xx, yy, cv=cv, n_jobs=1)\n",
    "    print(\"mean: {:3f}, stdev: {:3f}\".format(\n",
    "        np.mean(scores), np.std(scores)))\n",
    "    \n",
    "print_cv_score_summary(knn, X_test, y_test,\n",
    "                       cv=model_selection.KFold(15, shuffle=True, random_state = 42))"
   ]
  },
  {
   "cell_type": "code",
   "execution_count": 44,
   "metadata": {},
   "outputs": [
    {
     "data": {
      "text/plain": [
       "['groupModel_knn.pkl']"
      ]
     },
     "execution_count": 44,
     "metadata": {},
     "output_type": "execute_result"
    }
   ],
   "source": [
    "from sklearn.externals import joblib\n",
    "# Output a pickle file for the model\n",
    "joblib.dump(knn, 'groupModel_knn.pkl')"
   ]
  },
  {
   "cell_type": "code",
   "execution_count": null,
   "metadata": {},
   "outputs": [],
   "source": []
  }
 ],
 "metadata": {
  "kernelspec": {
   "display_name": "Python 3",
   "language": "python",
   "name": "python3"
  },
  "language_info": {
   "codemirror_mode": {
    "name": "ipython",
    "version": 3
   },
   "file_extension": ".py",
   "mimetype": "text/x-python",
   "name": "python",
   "nbconvert_exporter": "python",
   "pygments_lexer": "ipython3",
   "version": "3.7.3"
  }
 },
 "nbformat": 4,
 "nbformat_minor": 2
}
